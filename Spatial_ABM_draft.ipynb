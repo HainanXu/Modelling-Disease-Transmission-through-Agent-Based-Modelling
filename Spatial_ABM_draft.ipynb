{
  "nbformat": 4,
  "nbformat_minor": 0,
  "metadata": {
    "colab": {
      "name": "Spatial ABM draft.ipynb",
      "provenance": [],
      "authorship_tag": "ABX9TyPaHGPxVA8pNm1Kztk2fzcw",
      "include_colab_link": true
    },
    "kernelspec": {
      "name": "python3",
      "display_name": "Python 3"
    }
  },
  "cells": [
    {
      "cell_type": "markdown",
      "metadata": {
        "id": "view-in-github",
        "colab_type": "text"
      },
      "source": [
        "<a href=\"https://colab.research.google.com/github/SeasouthX/M3MB_project/blob/Spatial/Spatial_ABM_draft.ipynb\" target=\"_parent\"><img src=\"https://colab.research.google.com/assets/colab-badge.svg\" alt=\"Open In Colab\"/></a>"
      ]
    },
    {
      "cell_type": "code",
      "metadata": {
        "id": "RnrPVofxpSdu"
      },
      "source": [
        "#import pycxsimulator\n",
        "from pylab import *\n",
        "import numpy as np\n",
        "import matplotlib.pyplot as pyplot"
      ],
      "execution_count": 1,
      "outputs": []
    },
    {
      "cell_type": "code",
      "metadata": {
        "id": "Wdz1jcsnplZU"
      },
      "source": [
        "n = 1000 # number of agents\n",
        "r = 0.006 # neighborhood radius 0.01   #4200 people/km2 --->3000 people 0.71km^2 =0.71*1000000\n",
        "#th = 0.5 # threshold for infecting\n",
        "\n",
        "\n",
        "\n",
        "infection_rate=0.9\n",
        "recover_rate=0.01#ambiguous definition\n",
        "I0=10#initial infected\n",
        "\n",
        "cumulative_blue=[]\n",
        "cumulative_red=[]\n",
        "cumulative_green=[]\n",
        "#cumulative_grey=[]\n",
        "\n",
        "#scale_of_move=1000\n",
        "###transition matrix"
      ],
      "execution_count": 2,
      "outputs": []
    },
    {
      "cell_type": "code",
      "metadata": {
        "id": "gAOLeff_pnCG"
      },
      "source": [
        "class agent:\n",
        "    pass\n",
        "\n",
        "def initialize():\n",
        "    global time,agents\n",
        "    time=0\n",
        "    agents = []\n",
        "\n",
        "    \n",
        "    \n",
        "    \n",
        "    for i in range(n):\n",
        "        ag = agent()\n",
        "        #ag.type = randint(2)\n",
        "        ag.x = random()\n",
        "        ag.y = random()\n",
        "        if i<I0:\n",
        "            ag.type=1\n",
        "        else:\n",
        "            ag.type=0\n",
        "        agents.append(ag)"
      ],
      "execution_count": 3,
      "outputs": []
    },
    {
      "cell_type": "code",
      "metadata": {
        "id": "lndo6aRApo9x"
      },
      "source": [
        "def observe():\n",
        "    global time,agents\n",
        "    \n",
        "    cla()\n",
        "    \n",
        "    \n",
        "    blue = [ag for ag in agents if ag.type == 0]\n",
        "    red = [ag for ag in agents if ag.type == 1]\n",
        "    green =[ag for ag in agents if ag.type == 2]\n",
        "    grey =[ag for ag in agents if ag.type == 3]\n",
        "    plot([ag.x for ag in red], [ag.y for ag in red], 'r.')\n",
        "    plot([ag.x for ag in blue], [ag.y for ag in blue], 'b.')\n",
        "    plot([ag.x for ag in green], [ag.y for ag in green], 'g.')\n",
        "    plot([ag.x for ag in grey], [ag.y for ag in grey], 'rx')#or we can remove the dead people from the plot\n",
        "    axis('image')\n",
        "    axis([-0.1, 1.1, -0.1, 1.1])\n",
        "    title('t='+str(time)+'Susceptible='+str(len(blue))+'Infected='+str(len(red))+'Recovered'+str(len(green)))\n",
        "    cumulative_blue.append(len(blue))\n",
        "    cumulative_red.append(len(red))\n",
        "    cumulative_green.append(len(green))\n",
        "    "
      ],
      "execution_count": 4,
      "outputs": []
    },
    {
      "cell_type": "code",
      "metadata": {
        "id": "bq4An-0RprQU"
      },
      "source": [
        "def update():\n",
        "    global time,agents\n",
        "   \n",
        "    time+=1\n",
        "    \n",
        "    for ag in agents:\n",
        "  \n",
        "    # store the agents within certain radius as neighbors\n",
        "        neighbors = [nb for nb in agents\n",
        "                    if (ag.x - nb.x)**2 + (ag.y - nb.y)**2 < r**2 and nb != ag]\n",
        "    \n",
        "    ###infection process：\n",
        "    #If this agent healthy, how this agent is infected by other infected agents\n",
        "        \n",
        "        if ag.type==0:\n",
        "            for i in range(0,len(neighbors)):\n",
        "                if neighbors[i].type==1:\n",
        "                  pa=random()\n",
        "                  if 0<pa<infection_rate:\n",
        "                    ag.type=1\n",
        "                  else:\n",
        "                    pass\n",
        "\n",
        "                 \n",
        "    #If this agent sick, how this agent infect other healthy agents\n",
        "        elif ag.type==1:\n",
        "            for i in range(0,len(neighbors)):\n",
        "                if (neighbors[i]).type==0:\n",
        "                  pb=random()\n",
        "                  if 0<pb<infection_rate:\n",
        "                    neighbors[i].type==1\n",
        "                  else:\n",
        "                    pass\n",
        "    #If this agent sick, how this agent infect other healthy agents\n",
        "        elif ag.type==1:\n",
        "            for i in range(0,len(neighbors)):\n",
        "                if (neighbors[i]).type==0:\n",
        "                  pb=random()\n",
        "                  if 0<pb<infection_rate:\n",
        "                    neighbors[i].type==1\n",
        "                  else:\n",
        "                    pass\n",
        "\n",
        "\n",
        "                    \n",
        " ###recover process\n",
        "    if time>1:\n",
        "         for ag in agents:\n",
        "            if ag.type==1:\n",
        "                pr=random()\n",
        "                if 0<pr<=recover_rate:\n",
        "                    ag.type=2\n",
        "\n",
        "    \n",
        "    \n",
        "    ###location change\n",
        "    for ag in agents:\n",
        "        p1=random()\n",
        "        p2=random()\n",
        "        if ag.x<0.1:#\n",
        "            ag.x=ag.x+0.1*random()\n",
        "        elif 0.1<ag.x<0.9:\n",
        "          \n",
        "            if p1>0.5:\n",
        "                ag.x=ag.x+0.1*random()\n",
        "            else:\n",
        "                 ag.x=ag.x-0.1*random()\n",
        "        else: \n",
        "             ag.x=ag.x-0.1*random()\n",
        "        if ag.y<0.1:#\n",
        "            ag.y=ag.y+0.1*random()\n",
        "        elif 0.1<ag.y<0.9:\n",
        "            if p2>0.5:\n",
        "                ag.y=ag.y+0.1*random()\n",
        "            else:\n",
        "                ag.y=ag.y-0.1*random()\n",
        "        else:\n",
        "                ag.y=ag.y-0.1*random()                                    "
      ],
      "execution_count": 5,
      "outputs": []
    },
    {
      "cell_type": "code",
      "metadata": {
        "id": "WWRJyBNsp8C8"
      },
      "source": [
        "def run_model(n):\n",
        "\n",
        "  \n",
        "  initialize()\n",
        "  for i in range(0,n):\n",
        "    observe()\n",
        "    update()"
      ],
      "execution_count": 6,
      "outputs": []
    },
    {
      "cell_type": "code",
      "metadata": {
        "id": "-KXd7viDp-Ep"
      },
      "source": [
        "t=np.linspace(0,300,300)\n",
        "pyplot.plot(t,cumulative_blue,label = \"Susceptible\",color=\"blue\")\n",
        "pyplot.plot(t,cumulative_red,label=\"Infected\",color=\"orange\")\n",
        "pyplot.plot(t,cumulative_green,label=\"recovered\",color=\"green\")\n",
        "pyplot.xlabel(\"days\")\n",
        "pyplot.ylabel(\"population\")\n",
        "pyplot.legend()"
      ],
      "execution_count": null,
      "outputs": []
    }
  ]
}